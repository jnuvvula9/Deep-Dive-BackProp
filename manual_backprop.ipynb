{
  "nbformat": 4,
  "nbformat_minor": 0,
  "metadata": {
    "colab": {
      "provenance": []
    },
    "kernelspec": {
      "name": "python3",
      "display_name": "Python 3"
    },
    "language_info": {
      "name": "python"
    }
  },
  "cells": [
    {
      "cell_type": "code",
      "execution_count": 1,
      "metadata": {
        "id": "IuOFIzE-XdkX"
      },
      "outputs": [],
      "source": [
        "import torch\n",
        "import torch.nn.functional as F\n",
        "import matplotlib.pyplot as plt\n",
        "%matplotlib inline"
      ]
    },
    {
      "cell_type": "code",
      "source": [
        "words = open('names.txt', 'r').read().splitlines()\n",
        "print(len(words))\n",
        "print(max(len(w) for w in words))\n",
        "print(words[:8])"
      ],
      "metadata": {
        "colab": {
          "base_uri": "https://localhost:8080/"
        },
        "id": "Ijmct6v0XhVL",
        "outputId": "390af680-867c-4eab-b95e-55ea2784f1be"
      },
      "execution_count": 3,
      "outputs": [
        {
          "output_type": "stream",
          "name": "stdout",
          "text": [
            "32033\n",
            "15\n",
            "['emma', 'olivia', 'ava', 'isabella', 'sophia', 'charlotte', 'mia', 'amelia']\n"
          ]
        }
      ]
    },
    {
      "cell_type": "code",
      "source": [
        "chars = sorted(list(set(''.join(words))))\n",
        "stoi = {s:i+1 for i, s in enumerate(chars)}\n",
        "stoi['.'] = 0\n",
        "itos = {i:s for s, i in stoi.items()}\n",
        "vocab_size = len(itos)\n",
        "print(itos)\n",
        "print(vocab_size)"
      ],
      "metadata": {
        "colab": {
          "base_uri": "https://localhost:8080/"
        },
        "id": "gBGdpNn0X0oV",
        "outputId": "098a9c48-2749-4ecf-ab20-9e92dd0ca494"
      },
      "execution_count": 4,
      "outputs": [
        {
          "output_type": "stream",
          "name": "stdout",
          "text": [
            "{1: 'a', 2: 'b', 3: 'c', 4: 'd', 5: 'e', 6: 'f', 7: 'g', 8: 'h', 9: 'i', 10: 'j', 11: 'k', 12: 'l', 13: 'm', 14: 'n', 15: 'o', 16: 'p', 17: 'q', 18: 'r', 19: 's', 20: 't', 21: 'u', 22: 'v', 23: 'w', 24: 'x', 25: 'y', 26: 'z', 0: '.'}\n",
            "27\n"
          ]
        }
      ]
    },
    {
      "cell_type": "code",
      "source": [
        "#build the dataset\n",
        "block_size = 3 # context length\n",
        "\n",
        "def build_dataset(words):\n",
        "    X, y = [], []\n",
        "\n",
        "    for w in words:\n",
        "        context = [0] * block_size\n",
        "        for ch in w + '.':\n",
        "            idx = stoi[ch]\n",
        "            X.append(context)\n",
        "            y.append(idx)\n",
        "            context = context[1:] + [idx]\n",
        "\n",
        "    X = torch.tensor(X)\n",
        "    y = torch.tensor(y)\n",
        "    print(X.shape, y.shape)\n",
        "    return X, y\n",
        "\n",
        "\n",
        "import random\n",
        "random.seed(42)\n",
        "random.shuffle(words)\n",
        "n1 = int(0.8*len(words))\n",
        "n2 = int(0.9*len(words))\n",
        "X_train, y_train = build_dataset(words[:n1])\n",
        "X_dev, y_dev = build_dataset(words[n1:n2])\n",
        "X_test, y_test = build_dataset(words[n2:])"
      ],
      "metadata": {
        "colab": {
          "base_uri": "https://localhost:8080/"
        },
        "id": "0J0qv-T5X9lF",
        "outputId": "73abc9c9-122a-4cfe-986e-5b39ca4b8a0f"
      },
      "execution_count": 5,
      "outputs": [
        {
          "output_type": "stream",
          "name": "stdout",
          "text": [
            "torch.Size([182625, 3]) torch.Size([182625])\n",
            "torch.Size([22655, 3]) torch.Size([22655])\n",
            "torch.Size([22866, 3]) torch.Size([22866])\n"
          ]
        }
      ]
    },
    {
      "cell_type": "code",
      "source": [
        "n_embd = 10 # the dimensionality of character embedding vector\n",
        "n_hidden = 64 # the number of neurons in the hidden layer of mlp\n",
        "\n",
        "g = torch.Generator().manual_seed(2147483647)\n",
        "C = torch.randn((vocab_size, n_embd),             generator=g)\n",
        "W1 = torch.randn((n_embd * block_size, n_hidden), generator=g) * (5/3) / ((n_embd * block_size)**0.5)#* 0.2\n",
        "b1 = torch.randn(n_hidden,                        generator=g) * 0.1\n",
        "W2 = torch.randn((n_hidden, vocab_size),          generator=g) * 0.1\n",
        "b2 = torch.randn(vocab_size,                      generator=g) * 0.1\n",
        "\n",
        "bngain = torch.ones(1, n_hidden)*0.1 + 1.0\n",
        "bnbias = torch.zeros(1, n_hidden)*0.1\n",
        "\n",
        "parameters = [C, W1, b1, W2, b2, bngain, bnbias]\n",
        "print(sum(p.nelement() for p in parameters))\n",
        "for p in parameters:\n",
        "  p.requires_grad = True"
      ],
      "metadata": {
        "colab": {
          "base_uri": "https://localhost:8080/"
        },
        "id": "9Yr9SFW7YCyg",
        "outputId": "b2ee203c-b532-4369-8886-22c18060588b"
      },
      "execution_count": 6,
      "outputs": [
        {
          "output_type": "stream",
          "name": "stdout",
          "text": [
            "4137\n"
          ]
        }
      ]
    },
    {
      "cell_type": "code",
      "source": [
        "batch_size = 32\n",
        "n = batch_size\n",
        "idx = torch.randint(0, X_train.shape[0], (batch_size, ), generator=g)\n",
        "Xb, yb = X_train[idx], y_train[idx]"
      ],
      "metadata": {
        "id": "bJ-W04SvaJm6"
      },
      "execution_count": 7,
      "outputs": []
    },
    {
      "cell_type": "code",
      "source": [
        "emb = C[Xb]\n",
        "embcat = emb.view(emb.shape[0], -1)\n",
        "#Layer 1\n",
        "hprebn = embcat @ W1 + b1\n",
        "bnmeani = 1/n * (hprebn.sum(dim=0, keepdim=True))\n",
        "bndiff = hprebn - bnmeani\n",
        "bndiff2 = bndiff**2\n",
        "bnvar = 1/(n-1) * (bndiff2).sum(dim=0, keepdim=True)\n",
        "bnvar_inv = (bnvar + 1e-5)**-0.5\n",
        "bnraw = bndiff * bnvar_inv\n",
        "hpreact = bngain * bnraw + bnbias\n",
        "\n",
        "h = torch.tanh(hpreact)\n",
        "\n",
        "logits = h @ W2 + b2\n",
        "logit_maxes = logits.max(dim=1, keepdim=True).values\n",
        "norm_logits = logits - logit_maxes\n",
        "counts = norm_logits.exp()\n",
        "counts_sum = counts.sum(dim=1, keepdim=True)\n",
        "counts_sum_inv = counts_sum**-1\n",
        "probs = counts * counts_sum_inv\n",
        "logprobs = probs.log()\n",
        "loss = -logprobs[range(n), yb].mean()\n",
        "\n",
        "for p in parameters:\n",
        "  p.grad = None\n",
        "for t in [logprobs, probs, counts, counts_sum, counts_sum_inv,\n",
        "          norm_logits, logit_maxes, logits, h, hpreact, bnraw,\n",
        "          bnvar_inv, bnvar, bndiff2, bndiff, hprebn, bnmeani,\n",
        "          embcat, emb]:\n",
        "  t.retain_grad()\n",
        "loss.backward()\n",
        "loss"
      ],
      "metadata": {
        "colab": {
          "base_uri": "https://localhost:8080/"
        },
        "id": "LRloV4j4amPZ",
        "outputId": "250f8daf-42ef-4ff6-9324-09c9b53a6b6d"
      },
      "execution_count": 8,
      "outputs": [
        {
          "output_type": "execute_result",
          "data": {
            "text/plain": [
              "tensor(3.3482, grad_fn=<NegBackward0>)"
            ]
          },
          "metadata": {},
          "execution_count": 8
        }
      ]
    },
    {
      "cell_type": "code",
      "source": [
        "def cmp(s, dt, t):\n",
        "  ex = torch.all(dt == t.grad).item()\n",
        "  app = torch.allclose(dt, t.grad)\n",
        "  maxdiff = (dt - t.grad).abs().max().item()\n",
        "  print(f'{s:15s} | exact: {str(ex):5s} | approximate: {str(app):5s} | maxdiff: {maxdiff}')"
      ],
      "metadata": {
        "id": "cEHGKYfEBYH2"
      },
      "execution_count": 9,
      "outputs": []
    },
    {
      "cell_type": "code",
      "source": [
        "dlogprobs = torch.zeros_like(logprobs)\n",
        "dlogprobs[range(n), yb] = -1/n\n",
        "dprobs = (1.0/probs) * dlogprobs\n",
        "dcounts_sum_inv = (counts * dprobs).sum(dim=1, keepdim=True)\n",
        "dcounts = (counts_sum_inv * dprobs)\n",
        "dcounts_sum = (-1.0 * counts_sum**-2) * dcounts_sum_inv\n",
        "dcounts += torch.ones_like(counts) * dcounts_sum\n",
        "dnorm_logits = counts * dcounts\n",
        "dlogits = torch.ones_like(logits) * dnorm_logits\n",
        "dlogit_maxes = (-torch.ones_like(logit_maxes) * dnorm_logits).sum(dim=1, keepdim=True)\n",
        "dlogits += F.one_hot(logits.max(dim=1).indices, num_classes=logits.shape[1]) * dlogit_maxes\n",
        "dh = dlogits @ W2.T\n",
        "dW2 = h.T @ dlogits\n",
        "db2 = dlogits.sum(0)\n",
        "dhpreact = (1.0 - h**2) * dh\n",
        "dbngain = (bnraw * dhpreact).sum(dim=0, keepdim=True)\n",
        "dbnraw = bngain * dhpreact\n",
        "dbnbias = dhpreact.sum(dim=0, keepdim=True)\n",
        "dbndiff = bnvar_inv * dbnraw\n",
        "dbnvar_inv = (bndiff * dbnraw).sum(dim=0, keepdim=True)\n",
        "dbnvar = (-0.5 * (bnvar + 1e-5)**-1.5) * dbnvar_inv\n",
        "dbndiff2 = (1.0/(n-1)) * torch.ones_like(bndiff2) * dbnvar\n",
        "dbndiff += 2*bndiff * dbndiff2\n",
        "dhprebn = dbndiff.clone()\n",
        "dbnmeani = (-dbndiff).sum(dim=0, keepdim=True)\n",
        "dhprebn += (1.0/n * torch.ones_like(hprebn)) * dbnmeani\n",
        "dembcat = dhprebn @ W1.T\n",
        "dW1 = embcat.T @ dhprebn\n",
        "db1 = dhprebn.sum(dim=0)\n",
        "demb = dembcat.view(emb.shape)\n",
        "dC = torch.zeros_like(C)\n",
        "for k in range(Xb.shape[0]):\n",
        "  for j in range(Xb.shape[1]):\n",
        "    idx = Xb[k, j]\n",
        "    dC[idx] += demb[k, j]\n",
        "\n",
        "cmp('logprobs', dlogprobs, logprobs)\n",
        "cmp('probs', dprobs, probs)\n",
        "cmp('counts_sum_inv', dcounts_sum_inv, counts_sum_inv)\n",
        "cmp('dcounts_sum', dcounts_sum, counts_sum)\n",
        "cmp('dcounts', dcounts, counts)\n",
        "cmp('dnorm_logits', dnorm_logits, norm_logits)\n",
        "cmp('dlogit_maxes', dlogit_maxes, logit_maxes)\n",
        "cmp('dlogits', dlogits, logits)\n",
        "cmp('dh', dh, h)\n",
        "cmp('dW2', dW2, W2)\n",
        "cmp('db2', db2, b2)\n",
        "cmp('dhpreact', dhpreact, hpreact)\n",
        "cmp('dbngain', dbngain, bngain)\n",
        "cmp('dbnraw', dbnraw, bnraw)\n",
        "cmp('dbnbias', dbnbias, bnbias)\n",
        "cmp('dbndiff', dbndiff, bndiff)\n",
        "cmp('dbnvar_inv', dbnvar_inv, bnvar_inv)\n",
        "cmp('dbnvar', dbnvar, bnvar)\n",
        "cmp('dbndiff2', dbndiff2, bndiff2)\n",
        "cmp('dhprebn', dhprebn, hprebn)\n",
        "cmp('dbnmeani', dbnmeani, bnmeani)\n",
        "cmp('dembcat', dembcat, embcat)\n",
        "cmp('dW1', dW1, W1)\n",
        "cmp('db1', db1, b1)\n",
        "cmp('demb', demb, emb)\n",
        "cmp('dC', dC, C)\n"
      ],
      "metadata": {
        "colab": {
          "base_uri": "https://localhost:8080/"
        },
        "id": "COu-Xij1_Erh",
        "outputId": "2f1d12b2-f304-4dd4-de1e-f0132f431691"
      },
      "execution_count": 22,
      "outputs": [
        {
          "output_type": "stream",
          "name": "stdout",
          "text": [
            "logprobs        | exact: True  | approximate: True  | maxdiff: 0.0\n",
            "probs           | exact: True  | approximate: True  | maxdiff: 0.0\n",
            "counts_sum_inv  | exact: True  | approximate: True  | maxdiff: 0.0\n",
            "dcounts_sum     | exact: True  | approximate: True  | maxdiff: 0.0\n",
            "dcounts         | exact: True  | approximate: True  | maxdiff: 0.0\n",
            "dnorm_logits    | exact: True  | approximate: True  | maxdiff: 0.0\n",
            "dlogit_maxes    | exact: True  | approximate: True  | maxdiff: 0.0\n",
            "dlogits         | exact: True  | approximate: True  | maxdiff: 0.0\n",
            "dh              | exact: True  | approximate: True  | maxdiff: 0.0\n",
            "dW2             | exact: True  | approximate: True  | maxdiff: 0.0\n",
            "db2             | exact: True  | approximate: True  | maxdiff: 0.0\n",
            "dhpreact        | exact: False | approximate: True  | maxdiff: 9.313225746154785e-10\n",
            "dbngain         | exact: False | approximate: True  | maxdiff: 3.725290298461914e-09\n",
            "dbnraw          | exact: False | approximate: True  | maxdiff: 9.313225746154785e-10\n",
            "dbnbias         | exact: False | approximate: True  | maxdiff: 3.725290298461914e-09\n",
            "dbndiff         | exact: False | approximate: True  | maxdiff: 6.984919309616089e-10\n",
            "dbnvar_inv      | exact: False | approximate: True  | maxdiff: 3.725290298461914e-09\n",
            "dbnvar          | exact: False | approximate: True  | maxdiff: 4.656612873077393e-10\n",
            "dbndiff2        | exact: False | approximate: True  | maxdiff: 1.4551915228366852e-11\n",
            "dhprebn         | exact: False | approximate: True  | maxdiff: 6.984919309616089e-10\n",
            "dbnmeani        | exact: False | approximate: True  | maxdiff: 3.725290298461914e-09\n",
            "dembcat         | exact: False | approximate: True  | maxdiff: 1.3969838619232178e-09\n",
            "dW1             | exact: False | approximate: True  | maxdiff: 5.587935447692871e-09\n",
            "db1             | exact: False | approximate: True  | maxdiff: 4.6566128730773926e-09\n",
            "demb            | exact: False | approximate: True  | maxdiff: 1.3969838619232178e-09\n",
            "dC              | exact: False | approximate: True  | maxdiff: 5.587935447692871e-09\n"
          ]
        }
      ]
    },
    {
      "cell_type": "code",
      "source": [
        "bndiff.shape , hprebn.shape , bnmeani.shape"
      ],
      "metadata": {
        "colab": {
          "base_uri": "https://localhost:8080/"
        },
        "id": "uAn8lCv6CyEz",
        "outputId": "04b71997-caf3-4a39-b9c6-bc06ab4233db"
      },
      "execution_count": 14,
      "outputs": [
        {
          "output_type": "execute_result",
          "data": {
            "text/plain": [
              "(torch.Size([32, 64]), torch.Size([32, 64]), torch.Size([1, 64]))"
            ]
          },
          "metadata": {},
          "execution_count": 14
        }
      ]
    },
    {
      "cell_type": "code",
      "source": [
        "dembcat = dhprebn @ W1.T"
      ],
      "metadata": {
        "colab": {
          "base_uri": "https://localhost:8080/"
        },
        "id": "hs5PlNmGRE7-",
        "outputId": "88013c5e-f93f-4698-98ab-9d33b774a0db"
      },
      "execution_count": 39,
      "outputs": [
        {
          "output_type": "execute_result",
          "data": {
            "text/plain": [
              "torch.Size([32, 64])"
            ]
          },
          "metadata": {},
          "execution_count": 39
        }
      ]
    },
    {
      "cell_type": "code",
      "source": [
        "demb.shape"
      ],
      "metadata": {
        "colab": {
          "base_uri": "https://localhost:8080/"
        },
        "id": "7RvJeyMf3bss",
        "outputId": "28489ea2-a2f8-4dbb-b5b2-e2a5e480c75d"
      },
      "execution_count": 20,
      "outputs": [
        {
          "output_type": "execute_result",
          "data": {
            "text/plain": [
              "torch.Size([32, 3, 10])"
            ]
          },
          "metadata": {},
          "execution_count": 20
        }
      ]
    },
    {
      "cell_type": "code",
      "source": [],
      "metadata": {
        "id": "8Csmc3GuKzSH"
      },
      "execution_count": null,
      "outputs": []
    }
  ]
}